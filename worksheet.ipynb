{
 "cells": [
  {
   "cell_type": "code",
   "execution_count": 14,
   "metadata": {},
   "outputs": [
    {
     "ename": "FileNotFoundError",
     "evalue": "[Errno 2] No such file or directory: '/data/nfl-big-data-bowl-2024.zip'",
     "output_type": "error",
     "traceback": [
      "\u001b[1;31m---------------------------------------------------------------------------\u001b[0m",
      "\u001b[1;31mFileNotFoundError\u001b[0m                         Traceback (most recent call last)",
      "\u001b[1;32mc:\\Users\\dkste\\Dev\\nfl-tackle-metric\\worksheet.ipynb Cell 1\u001b[0m line \u001b[0;36m2\n\u001b[0;32m     <a href='vscode-notebook-cell:/c%3A/Users/dkste/Dev/nfl-tackle-metric/worksheet.ipynb#W0sZmlsZQ%3D%3D?line=16'>17</a>\u001b[0m         zip_ref\u001b[39m.\u001b[39mextractall(output_dir)\n\u001b[0;32m     <a href='vscode-notebook-cell:/c%3A/Users/dkste/Dev/nfl-tackle-metric/worksheet.ipynb#W0sZmlsZQ%3D%3D?line=18'>19</a>\u001b[0m \u001b[39m# Example usage\u001b[39;00m\n\u001b[1;32m---> <a href='vscode-notebook-cell:/c%3A/Users/dkste/Dev/nfl-tackle-metric/worksheet.ipynb#W0sZmlsZQ%3D%3D?line=19'>20</a>\u001b[0m extract_zip(\u001b[39m'\u001b[39;49m\u001b[39m/data/nfl-big-data-bowl-2024.zip\u001b[39;49m\u001b[39m'\u001b[39;49m, \u001b[39m'\u001b[39;49m\u001b[39m/data\u001b[39;49m\u001b[39m'\u001b[39;49m)\n",
      "\u001b[1;32mc:\\Users\\dkste\\Dev\\nfl-tackle-metric\\worksheet.ipynb Cell 1\u001b[0m line \u001b[0;36m1\n\u001b[0;32m     <a href='vscode-notebook-cell:/c%3A/Users/dkste/Dev/nfl-tackle-metric/worksheet.ipynb#W0sZmlsZQ%3D%3D?line=12'>13</a>\u001b[0m     os\u001b[39m.\u001b[39mmakedirs(output_dir)\n\u001b[0;32m     <a href='vscode-notebook-cell:/c%3A/Users/dkste/Dev/nfl-tackle-metric/worksheet.ipynb#W0sZmlsZQ%3D%3D?line=14'>15</a>\u001b[0m \u001b[39m# Open and extract all contents of the zip file\u001b[39;00m\n\u001b[1;32m---> <a href='vscode-notebook-cell:/c%3A/Users/dkste/Dev/nfl-tackle-metric/worksheet.ipynb#W0sZmlsZQ%3D%3D?line=15'>16</a>\u001b[0m \u001b[39mwith\u001b[39;00m zipfile\u001b[39m.\u001b[39;49mZipFile(zip_path, \u001b[39m'\u001b[39;49m\u001b[39mr\u001b[39;49m\u001b[39m'\u001b[39;49m) \u001b[39mas\u001b[39;00m zip_ref:\n\u001b[0;32m     <a href='vscode-notebook-cell:/c%3A/Users/dkste/Dev/nfl-tackle-metric/worksheet.ipynb#W0sZmlsZQ%3D%3D?line=16'>17</a>\u001b[0m     zip_ref\u001b[39m.\u001b[39mextractall(output_dir)\n",
      "File \u001b[1;32mc:\\Users\\dkste\\AppData\\Local\\Programs\\Python\\Python311\\Lib\\zipfile.py:1284\u001b[0m, in \u001b[0;36mZipFile.__init__\u001b[1;34m(self, file, mode, compression, allowZip64, compresslevel, strict_timestamps, metadata_encoding)\u001b[0m\n\u001b[0;32m   1282\u001b[0m \u001b[39mwhile\u001b[39;00m \u001b[39mTrue\u001b[39;00m:\n\u001b[0;32m   1283\u001b[0m     \u001b[39mtry\u001b[39;00m:\n\u001b[1;32m-> 1284\u001b[0m         \u001b[39mself\u001b[39m\u001b[39m.\u001b[39mfp \u001b[39m=\u001b[39m io\u001b[39m.\u001b[39;49mopen(file, filemode)\n\u001b[0;32m   1285\u001b[0m     \u001b[39mexcept\u001b[39;00m \u001b[39mOSError\u001b[39;00m:\n\u001b[0;32m   1286\u001b[0m         \u001b[39mif\u001b[39;00m filemode \u001b[39min\u001b[39;00m modeDict:\n",
      "\u001b[1;31mFileNotFoundError\u001b[0m: [Errno 2] No such file or directory: '/data/nfl-big-data-bowl-2024.zip'"
     ]
    }
   ],
   "source": [
    "import zipfile\n",
    "import os\n",
    "\n",
    "def extract_zip(zip_path, output_dir):\n",
    "    \"\"\"\n",
    "    Extract all files from a zip archive into a specified output directory.\n",
    "\n",
    "    :param zip_path: Path to the zip archive.\n",
    "    :param output_dir: Directory where the contents of the zip are to be extracted.\n",
    "    \"\"\"\n",
    "    # Ensure the output directory exists, create it if it doesn't\n",
    "    if not os.path.exists(output_dir):\n",
    "        os.makedirs(output_dir)\n",
    "\n",
    "    # Open and extract all contents of the zip file\n",
    "    with zipfile.ZipFile(zip_path, 'r') as zip_ref:\n",
    "        zip_ref.extractall(output_dir)\n",
    "\n",
    "# Example usage\n",
    "extract_zip('./data/nfl-big-data-bowl-2024.zip', './data')\n"
   ]
  }
 ],
 "metadata": {
  "kernelspec": {
   "display_name": "Python 3",
   "language": "python",
   "name": "python3"
  },
  "language_info": {
   "codemirror_mode": {
    "name": "ipython",
    "version": 3
   },
   "file_extension": ".py",
   "mimetype": "text/x-python",
   "name": "python",
   "nbconvert_exporter": "python",
   "pygments_lexer": "ipython3",
   "version": "3.11.4"
  }
 },
 "nbformat": 4,
 "nbformat_minor": 2
}
