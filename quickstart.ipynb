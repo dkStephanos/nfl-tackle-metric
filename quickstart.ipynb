{
 "cells": [
  {
   "cell_type": "code",
   "execution_count": null,
   "metadata": {},
   "outputs": [],
   "source": [
    "# Here is some starter code to get you started, begining with unwrapping the data (downloaded from Kaggle)\n",
    "from utils import extract_zip\n",
    "\n",
    "extract_zip('./data/nfl-big-data-bowl-2024.zip', './data')"
   ]
  }
 ],
 "metadata": {
  "language_info": {
   "name": "python"
  }
 },
 "nbformat": 4,
 "nbformat_minor": 2
}
